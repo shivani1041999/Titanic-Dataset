{
 "cells": [
  {
   "cell_type": "code",
   "execution_count": 2,
   "metadata": {},
   "outputs": [],
   "source": [
    "from sklearn.linear_model import LogisticRegression\n",
    "import numpy as np\n",
    "import pandas as pd"
   ]
  },
  {
   "cell_type": "code",
   "execution_count": 3,
   "metadata": {},
   "outputs": [
    {
     "name": "stderr",
     "output_type": "stream",
     "text": [
      "C:\\Users\\DELL\\Anaconda3\\lib\\site-packages\\ipykernel_launcher.py:16: SettingWithCopyWarning: \n",
      "A value is trying to be set on a copy of a slice from a DataFrame\n",
      "\n",
      "See the caveats in the documentation: http://pandas.pydata.org/pandas-docs/stable/indexing.html#indexing-view-versus-copy\n",
      "  app.launch_new_instance()\n",
      "C:\\Users\\DELL\\Anaconda3\\lib\\site-packages\\ipykernel_launcher.py:14: SettingWithCopyWarning: \n",
      "A value is trying to be set on a copy of a slice from a DataFrame\n",
      "\n",
      "See the caveats in the documentation: http://pandas.pydata.org/pandas-docs/stable/indexing.html#indexing-view-versus-copy\n",
      "  \n",
      "C:\\Users\\DELL\\Anaconda3\\lib\\site-packages\\ipykernel_launcher.py:19: SettingWithCopyWarning: \n",
      "A value is trying to be set on a copy of a slice from a DataFrame\n",
      "\n",
      "See the caveats in the documentation: http://pandas.pydata.org/pandas-docs/stable/indexing.html#indexing-view-versus-copy\n",
      "C:\\Users\\DELL\\Anaconda3\\lib\\site-packages\\ipykernel_launcher.py:21: SettingWithCopyWarning: \n",
      "A value is trying to be set on a copy of a slice from a DataFrame\n",
      "\n",
      "See the caveats in the documentation: http://pandas.pydata.org/pandas-docs/stable/indexing.html#indexing-view-versus-copy\n",
      "C:\\Users\\DELL\\Anaconda3\\lib\\site-packages\\ipykernel_launcher.py:23: SettingWithCopyWarning: \n",
      "A value is trying to be set on a copy of a slice from a DataFrame\n",
      "\n",
      "See the caveats in the documentation: http://pandas.pydata.org/pandas-docs/stable/indexing.html#indexing-view-versus-copy\n",
      "C:\\Users\\DELL\\Anaconda3\\lib\\site-packages\\ipykernel_launcher.py:26: SettingWithCopyWarning: \n",
      "A value is trying to be set on a copy of a slice from a DataFrame\n",
      "\n",
      "See the caveats in the documentation: http://pandas.pydata.org/pandas-docs/stable/indexing.html#indexing-view-versus-copy\n",
      "C:\\Users\\DELL\\Anaconda3\\lib\\site-packages\\ipykernel_launcher.py:28: SettingWithCopyWarning: \n",
      "A value is trying to be set on a copy of a slice from a DataFrame\n",
      "\n",
      "See the caveats in the documentation: http://pandas.pydata.org/pandas-docs/stable/indexing.html#indexing-view-versus-copy\n",
      "C:\\Users\\DELL\\Anaconda3\\lib\\site-packages\\ipykernel_launcher.py:31: SettingWithCopyWarning: \n",
      "A value is trying to be set on a copy of a slice from a DataFrame\n",
      "\n",
      "See the caveats in the documentation: http://pandas.pydata.org/pandas-docs/stable/indexing.html#indexing-view-versus-copy\n",
      "C:\\Users\\DELL\\Anaconda3\\lib\\site-packages\\ipykernel_launcher.py:35: SettingWithCopyWarning: \n",
      "A value is trying to be set on a copy of a slice from a DataFrame\n",
      "\n",
      "See the caveats in the documentation: http://pandas.pydata.org/pandas-docs/stable/indexing.html#indexing-view-versus-copy\n",
      "C:\\Users\\DELL\\Anaconda3\\lib\\site-packages\\ipykernel_launcher.py:33: SettingWithCopyWarning: \n",
      "A value is trying to be set on a copy of a slice from a DataFrame\n",
      "\n",
      "See the caveats in the documentation: http://pandas.pydata.org/pandas-docs/stable/indexing.html#indexing-view-versus-copy\n"
     ]
    }
   ],
   "source": [
    "data = pd.read_csv(\"0000000000002429_training_titanic_x_y_train.csv\", delimiter = \",\")\n",
    "Xtrain = data.iloc[:,:10]\n",
    "testdata = pd.read_csv(\"0000000000002429_test_titanic_x_test.csv\", delimiter = \",\")\n",
    "Xtest = testdata.iloc[:,:10]\n",
    "Ytrain = data.iloc[:,10]\n",
    "Xtrain.drop('Name',axis=1,inplace=True)\n",
    "Xtrain.drop('Cabin',axis=1,inplace=True)\n",
    "Xtrain.drop('Ticket',axis=1,inplace=True)\n",
    "Xtest.drop('Name',axis=1,inplace=True)\n",
    "Xtest.drop('Cabin',axis=1,inplace=True)\n",
    "Xtest.drop('Ticket',axis=1,inplace=True)\n",
    "for i in range(len(Xtrain)):\n",
    "    if Xtrain[\"Sex\"][i] == \"male\":\n",
    "        Xtrain[\"Sex\"][i] = 1\n",
    "    else:\n",
    "        Xtrain[\"Sex\"][i] = 2\n",
    "for i in range(len(Xtrain)):\n",
    "    if Xtrain[\"Embarked\"][i] == \"S\":\n",
    "        Xtrain[\"Embarked\"][i] = 1\n",
    "    elif Xtrain[\"Embarked\"][i] == \"C\":\n",
    "        Xtrain[\"Embarked\"][i] = 2\n",
    "    else:\n",
    "        Xtrain[\"Embarked\"][i] = 3\n",
    "for i in range(len(Xtest)):\n",
    "    if Xtest[\"Sex\"][i] == \"male\":\n",
    "        Xtest[\"Sex\"][i] = 1\n",
    "    else:\n",
    "        Xtest[\"Sex\"][i] = 2\n",
    "for i in range(len(Xtest)):\n",
    "    if Xtest[\"Embarked\"][i] == \"S\":\n",
    "        Xtest[\"Embarked\"][i] = 1\n",
    "    elif Xtest[\"Embarked\"][i] == \"C\":\n",
    "        Xtest[\"Embarked\"][i] = 2\n",
    "    else:\n",
    "        Xtest[\"Embarked\"][i] = 3        \n",
    "Xtrain.Age.fillna(Xtrain.Age.median(), inplace = True)\n",
    "Xtest.Age.fillna(Xtest.Age.median(), inplace = True)\n",
    "#Xtrain"
   ]
  },
  {
   "cell_type": "code",
   "execution_count": 7,
   "metadata": {},
   "outputs": [
    {
     "data": {
      "text/plain": [
       "0.7904191616766467"
      ]
     },
     "execution_count": 7,
     "metadata": {},
     "output_type": "execute_result"
    }
   ],
   "source": [
    "algo = LogisticRegression()\n",
    "algo.fit(Xtrain, Ytrain)\n",
    "y = algo.predict(Xtest)\n",
    "#print(Xtrain[\"Fare\"].isnull().sum())\n",
    "#Xtrain.head()\n",
    "#y\n",
    "np.savetxt(\"y_titaniclogistic\",y)\n",
    "#algo.score(Xtrain,Ytrain)"
   ]
  }
 ],
 "metadata": {
  "kernelspec": {
   "display_name": "Python 3",
   "language": "python",
   "name": "python3"
  },
  "language_info": {
   "codemirror_mode": {
    "name": "ipython",
    "version": 3
   },
   "file_extension": ".py",
   "mimetype": "text/x-python",
   "name": "python",
   "nbconvert_exporter": "python",
   "pygments_lexer": "ipython3",
   "version": "3.7.0"
  }
 },
 "nbformat": 4,
 "nbformat_minor": 2
}
